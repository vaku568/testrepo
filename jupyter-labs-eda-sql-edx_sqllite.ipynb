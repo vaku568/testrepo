{
 "cells": [
  {
   "cell_type": "markdown",
   "metadata": {},
   "source": [
    "<p style=\"text-align:center\">\n",
    "    <a href=\"https://skills.network\" target=\"_blank\">\n",
    "    <img src=\"https://cf-courses-data.s3.us.cloud-object-storage.appdomain.cloud/assets/logos/SN_web_lightmode.png\" width=\"200\" alt=\"Skills Network Logo\">\n",
    "    </a>\n",
    "</p>\n",
    "\n",
    "<h1 align=center><font size = 5>Assignment: SQL Notebook for Peer Assignment</font></h1>\n",
    "\n",
    "Estimated time needed: **60** minutes.\n",
    "\n",
    "## Introduction\n",
    "Using this Python notebook you will:\n",
    "\n",
    "1.  Understand the Spacex DataSet\n",
    "2.  Load the dataset  into the corresponding table in a Db2 database\n",
    "3.  Execute SQL queries to answer assignment questions \n"
   ]
  },
  {
   "cell_type": "markdown",
   "metadata": {},
   "source": [
    "## Overview of the DataSet\n",
    "\n",
    "SpaceX has gained worldwide attention for a series of historic milestones. \n",
    "\n",
    "It is the only private company ever to return a spacecraft from low-earth orbit, which it first accomplished in December 2010.\n",
    "SpaceX advertises Falcon 9 rocket launches on its website with a cost of 62 million dollars wheras other providers cost upward of 165 million dollars each, much of the savings is because Space X can reuse the first stage. \n",
    "\n",
    "\n",
    "Therefore if we can determine if the first stage will land, we can determine the cost of a launch. \n",
    "\n",
    "This information can be used if an alternate company wants to bid against SpaceX for a rocket launch.\n",
    "\n",
    "This dataset includes a record for each payload carried during a SpaceX mission into outer space.\n"
   ]
  },
  {
   "cell_type": "markdown",
   "metadata": {},
   "source": [
    "### Download the datasets\n",
    "\n",
    "This assignment requires you to load the spacex dataset.\n",
    "\n",
    "In many cases the dataset to be analyzed is available as a .CSV (comma separated values) file, perhaps on the internet. Click on the link below to download and save the dataset (.CSV file):\n",
    "\n",
    " <a href=\"https://cf-courses-data.s3.us.cloud-object-storage.appdomain.cloud/IBM-DS0321EN-SkillsNetwork/labs/module_2/data/Spacex.csv\" target=\"_blank\">Spacex DataSet</a>\n",
    "\n"
   ]
  },
  {
   "cell_type": "code",
   "execution_count": null,
   "metadata": {},
   "outputs": [],
   "source": [
    "!pip install sqlalchemy==1.3.9\n"
   ]
  },
  {
   "cell_type": "markdown",
   "metadata": {},
   "source": [
    "### Connect to the database\n",
    "\n",
    "Let us first load the SQL extension and establish a connection with the database\n"
   ]
  },
  {
   "cell_type": "code",
   "execution_count": null,
   "metadata": {},
   "outputs": [],
   "source": [
    "%load_ext sql"
   ]
  },
  {
   "cell_type": "code",
   "execution_count": null,
   "metadata": {},
   "outputs": [],
   "source": [
    "import csv, sqlite3\n",
    "\n",
    "con = sqlite3.connect(\"my_data1.db\")\n",
    "cur = con.cursor()"
   ]
  },
  {
   "cell_type": "code",
   "execution_count": null,
   "metadata": {},
   "outputs": [],
   "source": [
    "!pip install -q pandas==1.1.5"
   ]
  },
  {
   "cell_type": "code",
   "execution_count": null,
   "metadata": {},
   "outputs": [],
   "source": [
    "%sql sqlite:///my_data1.db"
   ]
  },
  {
   "cell_type": "code",
   "execution_count": null,
   "metadata": {},
   "outputs": [],
   "source": [
    "import pandas as pd\n",
    "df = pd.read_csv(\"https://cf-courses-data.s3.us.cloud-object-storage.appdomain.cloud/IBM-DS0321EN-SkillsNetwork/labs/module_2/data/Spacex.csv\")\n",
    "df.to_sql(\"SPACEXTBL\", con, if_exists='replace', index=False,method=\"multi\")"
   ]
  },
  {
   "cell_type": "markdown",
   "metadata": {},
   "source": [
    "**Note:This below code is added to remove blank rows from table**\n"
   ]
  },
  {
   "cell_type": "code",
   "execution_count": null,
   "metadata": {},
   "outputs": [],
   "source": [
    "%sql create table SPACEXTABLE as select * from SPACEXTBL where Date is not null"
   ]
  },
  {
   "cell_type": "markdown",
   "metadata": {},
   "source": [
    "## Tasks\n",
    "\n",
    "Now write and execute SQL queries to solve the assignment tasks.\n",
    "\n",
    "**Note: If the column names are in mixed case enclose it in double quotes\n",
    "   For Example \"Landing_Outcome\"** . \n",
    "\n",
    "   \n",
    "\n",
    "### Task 1\n",
    "\n",
    "\n",
    "\n",
    "\n",
    "##### Display the names of the unique launch sites  in the space mission\n"
   ]
  },
  {
   "cell_type": "code",
   "execution_count": null,
   "metadata": {},
   "outputs": [],
   "source": [
    "db.GetRecordsOfColumn('select DISTINCT Launch_Site from tblSpaceX','Launch_Site')"
   ]
  },
  {
   "cell_type": "code",
   "execution_count": null,
   "metadata": {},
   "outputs": [],
   "source": [
    "['CCAFS LC-40', 'CCAFS SLC-40', 'CCAFSSLC-40', 'KSC LC-39A', 'VAFB SLC-4E']"
   ]
  },
  {
   "cell_type": "markdown",
   "metadata": {},
   "source": [
    "\n",
    "### Task 2\n",
    "\n",
    "\n",
    "#####  Display 5 records where launch sites begin with the string 'KSC' \n"
   ]
  },
  {
   "cell_type": "code",
   "execution_count": null,
   "metadata": {},
   "outputs": [],
   "source": [
    "import pyodbc\n",
    "import pandas as pd \n",
    "import numpy as np\n",
    "conn = pyodbc.connect('Driver={SQL Server};'\n",
    "                                  'Server=localhost;'\n",
    "                                  'Database=SpaceX;'\n",
    "                                  'User ID=admin;Password=admin;')\n",
    "cursor = conn.cursor()\n",
    "\n",
    "cursor.execute(\"select TOP 5 * from tblSpaceX WHERE Launch_Site LIKE 'KSC%'\")\n",
    "columns = [column[0] for column in cursor.description]\n",
    "results = []\n",
    "for row in cursor.fetchall():   \n",
    "     results.append(dict(zip(columns, row)))\n",
    "\n",
    "df = pd.DataFrame.from_dict(results)\n",
    "df"
   ]
  },
  {
   "cell_type": "code",
   "execution_count": null,
   "metadata": {},
   "outputs": [],
   "source": [
    "       Date          Time_UTC                      Booster_Version   Launch_Site   Payload        PAYLOAD_MASS_KG_  Orbit         Customer    Mission_Outcome    Landing_Outcome\n",
    "0      19-02-2017  2021-07-02 14:39:00.0000000     F9 FT B1031.1     KSC LC-39A    SpaceX CRS-10  2490              LEO (ISS)     NASA (CRS)  Success            Success (ground pad)\n",
    "1      16-03-2017  2021-07-02 06:00:00.0000000     F9 FT B1030       KSC LC-39A    EchoStar 23    5600              GTO           EchoStar    Success            No attempt\n",
    "2      30-03-2017  2021-07-02 22:27:00.0000000     F9 FT B1021.2     KSC LC-39A    SES-10         5300              GTO           SES         Success            Success (drone ship)\n",
    "3      01-05-2017  2021-07-02 11:15:00.0000000     F9 FT B1032.1     KSC LC-39A    NROL-76        5300              LEO           NRO         Success            Success (ground pad)\n",
    "4      15-05-2017  2021-07-02 23:21:00.0000000     F9 FT B1034       KSC LC-39A    Inmarsat-5 F4  6070              GTO           Inmarsat    Success            No attempt"
   ]
  },
  {
   "cell_type": "markdown",
   "metadata": {},
   "source": [
    "### Task 3\n",
    "\n",
    "\n",
    "\n",
    "\n",
    "##### Display the total payload mass carried by boosters launched by NASA (CRS)\n"
   ]
  },
  {
   "cell_type": "code",
   "execution_count": null,
   "metadata": {},
   "outputs": [],
   "source": [
    "TPM = db.GetRecordsOfColumn(\"select SUM(PAYLOAD_MASS_KG_) TotalPayloadMass from tblSpaceX where Customer = 'NASA (CRS)'\",'TotalPayloadMass')\n",
    "ndf= pd.DataFrame(TPM)\n",
    "ndf.columns = ['Total Payload Mass']\n",
    "ndf"
   ]
  },
  {
   "cell_type": "code",
   "execution_count": null,
   "metadata": {},
   "outputs": [],
   "source": [
    "   Total Payload Mass\n",
    "0               45596"
   ]
  },
  {
   "cell_type": "markdown",
   "metadata": {},
   "source": [
    "### Task 4\n",
    "\n",
    "\n",
    "\n",
    "\n",
    "##### Display average payload mass carried by booster version F9 v1.1\n"
   ]
  },
  {
   "cell_type": "code",
   "execution_count": null,
   "metadata": {},
   "outputs": [],
   "source": [
    "APM = db.GetRecordsOfColumn(\"select AVG(PAYLOAD_MASS_KG_) AveragePayloadMass from tblSpaceX where Booster_Version = 'F9 v1.1'\",'AveragePayloadMass')\n",
    "ndf= pd.DataFrame(APM)\n",
    "ndf.columns = ['Average Payload Mass']\n",
    "ndf"
   ]
  },
  {
   "cell_type": "code",
   "execution_count": null,
   "metadata": {},
   "outputs": [],
   "source": [
    "    Average Payload Mass\n",
    "0                   2928"
   ]
  },
  {
   "cell_type": "markdown",
   "metadata": {},
   "source": [
    "### Task 5\n",
    "\n",
    "##### List the date where the succesful landing outcome in drone ship was acheived.\n",
    "\n",
    "\n",
    "_Hint:Use min function_ \n"
   ]
  },
  {
   "cell_type": "code",
   "execution_count": null,
   "metadata": {},
   "outputs": [],
   "source": [
    "SLO = db.GetRecordsOfColumn(\"select MIN(Date) SLO from tblSpaceX where Landing_Outcome = 'Success (drone ship)'\",'SLO')\n",
    "ndf= pd.DataFrame(SLO)\n",
    "ndf.columns = ['Date which first Successful landing outcome in drone ship was acheived.']\n",
    "ndf"
   ]
  },
  {
   "cell_type": "code",
   "execution_count": null,
   "metadata": {},
   "outputs": [],
   "source": [
    "    Date which first Successful landing outcome in drone ship was acheived.\n",
    "0                                                               06-05-2016"
   ]
  },
  {
   "cell_type": "markdown",
   "metadata": {},
   "source": [
    "### Task 6\n",
    "\n",
    "##### List the names of the boosters which have success in ground pad  and have payload mass greater than 4000 but less than 6000\n"
   ]
  },
  {
   "cell_type": "code",
   "execution_count": null,
   "metadata": {},
   "outputs": [],
   "source": [
    "SLO = db.GetRecordsOfColumn(\"select Booster_Version from tblSpaceX where Landing_Outcome = 'Success (ground pad)' AND Payload_MASS_KG_ > 4000 AND Payload_MASS_KG_ < 6000\",'Booster_Version')\n",
    "ndf= pd.DataFrame(SLO)\n",
    "ndf.columns = ['Date which first Successful landing outcome in drone ship was acheived.']\n",
    "ndf"
   ]
  },
  {
   "cell_type": "code",
   "execution_count": null,
   "metadata": {},
   "outputs": [],
   "source": [
    "    Date which first Successful landing outcome in drone ship was acheived.\n",
    "0                                                            F9 FT B1032.1\n",
    "1                                                            F9 B4 B1040.1\n",
    "2                                                            F9 B4 B1043.1"
   ]
  },
  {
   "cell_type": "markdown",
   "metadata": {},
   "source": [
    "### Task 7\n",
    "\n",
    "\n",
    "\n",
    "\n",
    "##### List the total number of successful and failure mission outcomes\n"
   ]
  },
  {
   "cell_type": "code",
   "execution_count": null,
   "metadata": {},
   "outputs": [],
   "source": [
    "conn = pyodbc.connect('Driver={SQL Server};'\n",
    "                                  'Server=localhost;'\n",
    "                                  'Database=SpaceX;'\n",
    "                                  'User ID=admin;Password=admin;')\n",
    "cursor = conn.cursor()\n",
    "\n",
    "cursor.execute(\"SELECT(SELECT Count(Mission_Outcome) from tblSpaceX where Mission_Outcome LIKE '%Success%') as Successful_Mission_Outcomes,(SELECT Count(Mission_Outcome) from tblSpaceX where Mission_Outcome LIKE '%Failure%') as Failure_Mission_Outcomes\")\n",
    "columns = [column[0] for column in cursor.description]\n",
    "results = []\n",
    "for row in cursor.fetchall():   \n",
    "     results.append(dict(zip(columns, row)))\n",
    "\n",
    "df = pd.DataFrame.from_dict(results)\n",
    "df"
   ]
  },
  {
   "cell_type": "code",
   "execution_count": null,
   "metadata": {},
   "outputs": [],
   "source": [
    "           Successful_Mission_Outcomes   Failure_Mission_Outcomes\n",
    "0                                  100                          1"
   ]
  },
  {
   "cell_type": "markdown",
   "metadata": {},
   "source": [
    "### Task 8\n",
    "\n",
    "\n",
    "\n",
    "##### List the   names of the booster_versions which have carried the maximum payload mass. Use a subquery\n"
   ]
  },
  {
   "cell_type": "code",
   "execution_count": null,
   "metadata": {},
   "outputs": [],
   "source": [
    "conn = pyodbc.connect('Driver={SQL Server};'\n",
    "                                  'Server=localhost;'\n",
    "                                  'Database=SpaceX;'\n",
    "                                  'User ID=admin;Password=admin;')\n",
    "cursor = conn.cursor()\n",
    "\n",
    "cursor.execute(\"SELECT DISTINCT Booster_Version, MAX(PAYLOAD_MASS_KG_) AS [Maximum Payload Mass] FROM tblSpaceX GROUP BY Booster_Version ORDER BY [Maximum Payload Mass] DESC\")\n",
    "columns = [column[0] for column in cursor.description]\n",
    "results = []\n",
    "for row in cursor.fetchall():   \n",
    "     results.append(dict(zip(columns, row)))\n",
    "\n",
    "df = pd.DataFrame.from_dict(results)\n",
    "df\n"
   ]
  },
  {
   "cell_type": "code",
   "execution_count": null,
   "metadata": {},
   "outputs": [],
   "source": [
    "    Booster_Version     Maximum Payload Mass\n",
    "0   F9 B5 B1048.4         15600\n",
    "1   F9 B5 B1048.5         15600\n",
    "2   F9 B5 B1049.4         15600\n",
    "3   F9 B5 B1049.5         15600\n",
    "4   F9 B5 B1049.7         15600\n",
    "...     ...               ...\n",
    "92  F9 v1.1 B1003           500\n",
    "93  F9 FT B1038.1           475\n",
    "94  F9 B4 B1045.1           362\n",
    "95  F9 v1.0 B0003             0\n",
    "96  F9 v1.0 B0004             0\n",
    "97 rows × 2 columns"
   ]
  },
  {
   "cell_type": "markdown",
   "metadata": {},
   "source": [
    "### Task 9\n",
    "\n",
    "\n",
    "##### List the records which will display the month names, succesful landing_outcomes in ground pad ,booster versions, launch_site for the months in year 2017\n",
    "**Note: SQLLite does not support monthnames. So you need to use substr(Date,6,2) for month, substr(Date,9,2) for date, substr(Date,0,5),='2017' for year.**\n"
   ]
  },
  {
   "cell_type": "code",
   "execution_count": null,
   "metadata": {},
   "outputs": [],
   "source": [
    "conn = pyodbc.connect('Driver={SQL Server};'\n",
    "                                  'Server=localhost;'\n",
    "                                  'Database=SpaceX;'\n",
    "                                  'User ID=admin;Password=admin;')\n",
    "cursor = conn.cursor()\n",
    "\n",
    "cursor.execute(\"SELECT   DateName( month , DateAdd( month , MONTH(CONVERT(date,Date, 105)) , 0 ) - 1 )  as Month, Booster_Version, Launch_Site, Landing_Outcome FROM tblSpaceX WHERE  (Landing_Outcome LIKE N'%Success%') AND YEAR(CONVERT(date,Date, 105)) = '2017'\")\n",
    "columns = [column[0] for column in cursor.description]\n",
    "results = []\n",
    "for row in cursor.fetchall():   \n",
    "     results.append(dict(zip(columns, row)))\n",
    "\n",
    "df = pd.DataFrame.from_dict(results)\n",
    "df"
   ]
  },
  {
   "cell_type": "code",
   "execution_count": null,
   "metadata": {},
   "outputs": [],
   "source": [
    "     Month      Booster_Version   Launch_Site    Landing_Outcome\n",
    "0    January    F9 FT B1029.1     VAFB SLC-4E   Success (drone ship)\n",
    "1    February   F9 FT B1031.1     KSC LC-39A    Success (ground pad)\n",
    "2    March      F9 FT B1021.2     KSC LC-39A    Success (drone ship)\n",
    "3    May        F9 FT B1032.1     KSC LC-39A    Success (ground pad)\n",
    "4    June       F9 FT B1035.1     KSC LC-39A    Success (ground pad)\n",
    "5    June       F9 FT B1029.2     KSC LC-39A    Success (drone ship)\n",
    "6    June       F9 FT B1036.1     VAFB SLC-4E   Success (drone ship)\n",
    "7    August     F9 B4 B1039.1     KSC LC-39A    Success (ground pad)\n",
    "8    August     F9 FT B1038.1     VAFB SLC-4E   Success (drone ship)\n",
    "9    September  F9 B4 B1040.1     KSC LC-39A    Success (ground pad)\n",
    "10   October    F9 B4 B1041.1     VAFB SLC-4E   Success (drone ship)\n",
    "11   October    F9 FT B1031.2     KSC LC-39A    Success (drone ship)\n",
    "12   October    F9 B4 B1042.1     KSC LC-39A    Success (drone ship)\n",
    "13   December   F9 FT B1035.2     CCAFS SLC-40  Success (ground pad)"
   ]
  },
  {
   "cell_type": "markdown",
   "metadata": {},
   "source": [
    "### Task 10\n",
    "\n",
    "\n",
    "\n",
    "\n",
    "##### Rank the count of landing outcomes (such as Failure (drone ship) or Success (ground pad)) between the date 2010-06-04 and 2017-03-20, in descending order\n"
   ]
  },
  {
   "cell_type": "code",
   "execution_count": null,
   "metadata": {},
   "outputs": [],
   "source": [
    "sl = db.GetRecordsOfColumn(\"SELECT COUNT(Landing_Outcome) AS sl FROM dbo.tblSpaceX WHERE (Landing_Outcome LIKE '%Success%') AND (Date >'04-06-2010') AND (Date < '20-03-2017')\",'sl')\n",
    "\n",
    "ndf= pd.DataFrame(sl)\n",
    "ndf.columns = ['Successful Landing Outcomes Between 2010-06-04 and 2017-03-20']\n",
    "ndf"
   ]
  },
  {
   "cell_type": "code",
   "execution_count": null,
   "metadata": {},
   "outputs": [],
   "source": [
    "    Successful Landing Outcomes Between 2010-06-04 and 2017-03-20\n",
    "0                                                              34"
   ]
  },
  {
   "cell_type": "code",
   "execution_count": null,
   "metadata": {},
   "outputs": [],
   "source": [
    "### Reference Links\n",
    "\n",
    "* <a href =\"https://cf-courses-data.s3.us.cloud-object-storage.appdomain.cloud/IBMDeveloperSkillsNetwork-DB0201EN-SkillsNetwork/labs/Module%203/LAB-String_Patterns_Sorting_Grouping.md.html\">Hands-on Lab : String Patterns, Sorting and Grouping</a>  \n",
    "\n",
    "*  <a  href=\"https://cf-courses-data.s3.us.cloud-object-storage.appdomain.cloud/IBMDeveloperSkillsNetwork-DB0201EN-SkillsNetwork/labs/Labs_Coursera_V5/labs/Lab%20-%20Built-in%20functions%20/Hands-on_Lab__Built-in_Functions.md.html\">Hands-on Lab: Built-in functions</a>\n",
    "\n",
    "*  <a  href=\"https://cf-courses-data.s3.us.cloud-object-storage.appdomain.cloud/IBMDeveloperSkillsNetwork-DB0201EN-SkillsNetwork/labs/Labs_Coursera_V5/labs/Lab%20-%20Sub-queries%20and%20Nested%20SELECTs%20/instructional-labs.md.html\">Hands-on Lab : Sub-queries and Nested SELECT Statements</a>\n",
    "\n",
    "*   <a href=\"https://cf-courses-data.s3.us.cloud-object-storage.appdomain.cloud/IBMDeveloperSkillsNetwork-DB0201EN-SkillsNetwork/labs/Module%205/DB0201EN-Week3-1-3-SQLmagic.ipynb\">Hands-on Tutorial: Accessing Databases with SQL magic</a>\n",
    "\n",
    "*  <a href= \"https://cf-courses-data.s3.us.cloud-object-storage.appdomain.cloud/IBMDeveloperSkillsNetwork-DB0201EN-SkillsNetwork/labs/Module%205/DB0201EN-Week3-1-4-Analyzing.ipynb\">Hands-on Lab: Analyzing a real World Data Set</a>\n"
   ]
  },
  {
   "cell_type": "markdown",
   "metadata": {},
   "source": [
    "## Author(s)\n",
    "\n",
    "<h4> Lakshmi Holla </h4>\n"
   ]
  },
  {
   "cell_type": "markdown",
   "metadata": {},
   "source": [
    "## Other Contributors\n",
    "\n",
    "<h4> Rav Ahuja </h4>\n"
   ]
  },
  {
   "cell_type": "markdown",
   "metadata": {},
   "source": [
    "## Change log\n",
    "| Date | Version | Changed by | Change Description |\n",
    "|------|--------|--------|---------|\n",
    "| 2021-07-09 | 0.2 |Lakshmi Holla | Changes made in magic sql|\n",
    "| 2021-05-20 | 0.1 |Lakshmi Holla | Created Initial Version |\n"
   ]
  },
  {
   "cell_type": "markdown",
   "metadata": {},
   "source": [
    "## <h3 align=\"center\"> © IBM Corporation 2021. All rights reserved. <h3/>\n"
   ]
  }
 ],
 "metadata": {
  "kernelspec": {
   "display_name": "Python",
   "language": "python",
   "name": "conda-env-python-py"
  },
  "language_info": {
   "codemirror_mode": {
    "name": "ipython",
    "version": 3
   },
   "file_extension": ".py",
   "mimetype": "text/x-python",
   "name": "python",
   "nbconvert_exporter": "python",
   "pygments_lexer": "ipython3",
   "version": "3.7.12"
  }
 },
 "nbformat": 4,
 "nbformat_minor": 4
}
